{
 "cells": [
  {
   "cell_type": "markdown",
   "id": "b0e85beb",
   "metadata": {
    "ExecuteTime": {
     "end_time": "2023-11-21T15:05:01.203156Z",
     "start_time": "2023-11-21T15:04:59.315868Z"
    }
   },
   "source": [
    "### ДЗ - Плотников Святослав"
   ]
  },
  {
   "cell_type": "code",
   "execution_count": 185,
   "id": "12a8e4a5",
   "metadata": {
    "ExecuteTime": {
     "end_time": "2023-11-21T15:44:01.977863Z",
     "start_time": "2023-11-21T15:44:00.190474Z"
    }
   },
   "outputs": [],
   "source": [
    "import numpy as np\n",
    "import scipy\n",
    "import matplotlib.pyplot as plt\n",
    "import scipy.stats as stats\n",
    "import statsmodels\n",
    "import statsmodels.sandbox.stats.multicomp\n",
    "import pandas as pd\n",
    "import datetime\n",
    "from statsmodels.stats.weightstats import ztest\n",
    "\n",
    "import matplotlib.pyplot as plt\n",
    "import seaborn as sns\n",
    "\n",
    "from tqdm import tqdm\n",
    "from sklearn.utils import shuffle\n",
    "import hashlib\n",
    "from base64 import b64encode\n",
    "import collections\n",
    "import pandas as pd\n",
    "import hashlib\n",
    "import sklearn\n",
    "from scipy.stats import norm"
   ]
  },
  {
   "cell_type": "code",
   "execution_count": 2,
   "id": "5cfdbd9b",
   "metadata": {
    "ExecuteTime": {
     "end_time": "2023-11-21T15:44:06.214589Z",
     "start_time": "2023-11-21T15:44:06.197634Z"
    }
   },
   "outputs": [
    {
     "name": "stderr",
     "output_type": "stream",
     "text": [
      "<ipython-input-2-57f4fc94f2aa>:1: FutureWarning: Passing a negative integer is deprecated in version 1.0 and will not be supported in future version. Instead, use None to not limit the column width.\n",
      "  pd.set_option('display.max_colwidth', -1)\n"
     ]
    }
   ],
   "source": [
    "pd.set_option('display.max_colwidth', -1)\n",
    "pd.set_option('display.max_columns', 1000)\n",
    "pd.set_option('display.max_rows', 20000)"
   ]
  },
  {
   "cell_type": "markdown",
   "id": "39b4f609",
   "metadata": {},
   "source": [
    "# 📺 Данные: датасет КИОН\n",
    "- **просмотры** фильмов и сериалов в приложении KION\n",
    "- данные о пользователях\n",
    "- данные об айтемах (фильмы, сериалы и т.д.)"
   ]
  },
  {
   "cell_type": "code",
   "execution_count": 11,
   "id": "c27b75ad",
   "metadata": {
    "ExecuteTime": {
     "end_time": "2023-11-21T16:28:23.160768Z",
     "start_time": "2023-11-21T16:28:19.955956Z"
    }
   },
   "outputs": [],
   "source": [
    "interactions = pd.read_csv('interactions.csv')\n",
    "users = pd.read_csv('users.csv')\n",
    "items = pd.read_csv('items.csv')"
   ]
  },
  {
   "cell_type": "code",
   "execution_count": 12,
   "id": "20b0c25e",
   "metadata": {},
   "outputs": [
    {
     "name": "stderr",
     "output_type": "stream",
     "text": [
      "/var/folders/rb/xr511ym54773mfmyy2h4lmfr0000gn/T/ipykernel_14872/1162599782.py:1: FutureWarning: The frame.append method is deprecated and will be removed from pandas in a future version. Use pandas.concat instead.\n",
      "  interactions.head(5).append(interactions.tail())\n"
     ]
    },
    {
     "data": {
      "text/html": [
       "<div>\n",
       "<style scoped>\n",
       "    .dataframe tbody tr th:only-of-type {\n",
       "        vertical-align: middle;\n",
       "    }\n",
       "\n",
       "    .dataframe tbody tr th {\n",
       "        vertical-align: top;\n",
       "    }\n",
       "\n",
       "    .dataframe thead th {\n",
       "        text-align: right;\n",
       "    }\n",
       "</style>\n",
       "<table border=\"1\" class=\"dataframe\">\n",
       "  <thead>\n",
       "    <tr style=\"text-align: right;\">\n",
       "      <th></th>\n",
       "      <th>user_id</th>\n",
       "      <th>item_id</th>\n",
       "      <th>last_watch_dt</th>\n",
       "      <th>total_dur</th>\n",
       "      <th>watched_pct</th>\n",
       "    </tr>\n",
       "  </thead>\n",
       "  <tbody>\n",
       "    <tr>\n",
       "      <th>0</th>\n",
       "      <td>176549</td>\n",
       "      <td>9506</td>\n",
       "      <td>2021-05-11</td>\n",
       "      <td>4250</td>\n",
       "      <td>72.0</td>\n",
       "    </tr>\n",
       "    <tr>\n",
       "      <th>1</th>\n",
       "      <td>699317</td>\n",
       "      <td>1659</td>\n",
       "      <td>2021-05-29</td>\n",
       "      <td>8317</td>\n",
       "      <td>100.0</td>\n",
       "    </tr>\n",
       "    <tr>\n",
       "      <th>2</th>\n",
       "      <td>656683</td>\n",
       "      <td>7107</td>\n",
       "      <td>2021-05-09</td>\n",
       "      <td>10</td>\n",
       "      <td>0.0</td>\n",
       "    </tr>\n",
       "    <tr>\n",
       "      <th>3</th>\n",
       "      <td>864613</td>\n",
       "      <td>7638</td>\n",
       "      <td>2021-07-05</td>\n",
       "      <td>14483</td>\n",
       "      <td>100.0</td>\n",
       "    </tr>\n",
       "    <tr>\n",
       "      <th>4</th>\n",
       "      <td>964868</td>\n",
       "      <td>9506</td>\n",
       "      <td>2021-04-30</td>\n",
       "      <td>6725</td>\n",
       "      <td>100.0</td>\n",
       "    </tr>\n",
       "    <tr>\n",
       "      <th>5476246</th>\n",
       "      <td>648596</td>\n",
       "      <td>12225</td>\n",
       "      <td>2021-08-13</td>\n",
       "      <td>76</td>\n",
       "      <td>0.0</td>\n",
       "    </tr>\n",
       "    <tr>\n",
       "      <th>5476247</th>\n",
       "      <td>546862</td>\n",
       "      <td>9673</td>\n",
       "      <td>2021-04-13</td>\n",
       "      <td>2308</td>\n",
       "      <td>49.0</td>\n",
       "    </tr>\n",
       "    <tr>\n",
       "      <th>5476248</th>\n",
       "      <td>697262</td>\n",
       "      <td>15297</td>\n",
       "      <td>2021-08-20</td>\n",
       "      <td>18307</td>\n",
       "      <td>63.0</td>\n",
       "    </tr>\n",
       "    <tr>\n",
       "      <th>5476249</th>\n",
       "      <td>384202</td>\n",
       "      <td>16197</td>\n",
       "      <td>2021-04-19</td>\n",
       "      <td>6203</td>\n",
       "      <td>100.0</td>\n",
       "    </tr>\n",
       "    <tr>\n",
       "      <th>5476250</th>\n",
       "      <td>319709</td>\n",
       "      <td>4436</td>\n",
       "      <td>2021-08-15</td>\n",
       "      <td>3921</td>\n",
       "      <td>45.0</td>\n",
       "    </tr>\n",
       "  </tbody>\n",
       "</table>\n",
       "</div>"
      ],
      "text/plain": [
       "         user_id  item_id last_watch_dt  total_dur  watched_pct\n",
       "0         176549     9506    2021-05-11       4250         72.0\n",
       "1         699317     1659    2021-05-29       8317        100.0\n",
       "2         656683     7107    2021-05-09         10          0.0\n",
       "3         864613     7638    2021-07-05      14483        100.0\n",
       "4         964868     9506    2021-04-30       6725        100.0\n",
       "5476246   648596    12225    2021-08-13         76          0.0\n",
       "5476247   546862     9673    2021-04-13       2308         49.0\n",
       "5476248   697262    15297    2021-08-20      18307         63.0\n",
       "5476249   384202    16197    2021-04-19       6203        100.0\n",
       "5476250   319709     4436    2021-08-15       3921         45.0"
      ]
     },
     "execution_count": 12,
     "metadata": {},
     "output_type": "execute_result"
    }
   ],
   "source": [
    "interactions.head(5).append(interactions.tail())"
   ]
  },
  {
   "cell_type": "code",
   "execution_count": 16,
   "id": "568686da",
   "metadata": {
    "ExecuteTime": {
     "end_time": "2023-11-21T16:31:58.773611Z",
     "start_time": "2023-11-21T16:31:32.161141Z"
    }
   },
   "outputs": [
    {
     "name": "stdout",
     "output_type": "stream",
     "text": [
      "Уникальных юзеров в interactions: 962_179\n",
      "Уникальных айтемов в interactions: 15_706\n"
     ]
    }
   ],
   "source": [
    "# предобработка данных\n",
    "interactions['last_watch_dt'] = pd.to_datetime(interactions['last_watch_dt']).map(lambda x: x.date())\n",
    "interactions['user_id'] = interactions['user_id'].astype(str)\n",
    "\n",
    "print(f\"Уникальных юзеров в interactions: {interactions['user_id'].nunique():_}\")\n",
    "print(f\"Уникальных айтемов в interactions: {interactions['item_id'].nunique():_}\")"
   ]
  },
  {
   "cell_type": "code",
   "execution_count": 30,
   "id": "a9e6e4f2",
   "metadata": {
    "ExecuteTime": {
     "end_time": "2023-11-21T16:32:11.178266Z",
     "start_time": "2023-11-21T16:32:10.354311Z"
    }
   },
   "outputs": [
    {
     "name": "stdout",
     "output_type": "stream",
     "text": [
      "2021-03-13 2021-08-22\n"
     ]
    }
   ],
   "source": [
    "max_date = interactions['last_watch_dt'].max()\n",
    "min_date = interactions['last_watch_dt'].min()\n",
    "print(min_date, max_date)"
   ]
  },
  {
   "cell_type": "markdown",
   "id": "62f755c6",
   "metadata": {},
   "source": [
    "# ДЗ 1:\n",
    "\n",
    "### Дизайн теста\n",
    "1) Из interactions взять данные за 2 последние недели (2021-08-09 по 2021-08-22)\n",
    "\n",
    "2) Посчитайте на этих данных корректность на бутстрепе и сравните ее с результатами за 1 неделю (посчитано на семинаре) (0.5 балла)\n",
    "\n",
    "3) На двух неделях посчитайте мощность. Для этого нужно в одну из групп докинуть эффект. Докиньте эффект в 1%, 3% и 5% и сравните полученную мощность (1.5 балла)\n",
    "\n",
    "4) Посчитайте MDE, который можно зафиксировать на 2х неделях. В качестве alpha и beta подставьте ваши вычисленные ошибки 1 и 2 рода. Учитывайте что у нас формула для MDE работает для t-test или z-test (1 балл)\n",
    "\n",
    "### A/B тест\n",
    "1) Представим что у нас прошел тест, используем те же самые данные за 2 недели\n",
    "\n",
    "2) Занулите для всех пользователей total_dur, у которых total_dur < 500. Их НЕ УБИРАЕМ, а просто обрабатываем эти значения, принимая за нулевые, но пользователей также учитываем в эксперименте (0.5 балла)\n",
    "\n",
    "3) Разбейте их самостоятельно на две равные группы, используйте функцию groups_splitter и соль = 'kiontestmodel20210805' (0.5 балла)\n",
    "\n",
    "4) Оказалось, что модель в группе В показала себя лучше, чем в группе А на 2.5%, причем эффект распространился неравномерно и преимущественно на 10% самых смотрящих пользователей, докиньте такой эффект самостоятельно. Нужно метрику total_dur увеличить на 2.5% для 10% пользователей с самым продолжительным смотрением. (1 балл)\n",
    "\n",
    "5) Посчитайте результат такого теста и сделайте выводы (2 балла)\n",
    "\n",
    "Еще 1 балл можно получить за хорошее и подробное объяснение каждого шага "
   ]
  },
  {
   "cell_type": "markdown",
   "id": "05a7917d",
   "metadata": {},
   "source": [
    "### Дизайн теста\n",
    "1) Из interactions взять данные за 2 последние недели (2021-08-09 по 2021-08-22)"
   ]
  },
  {
   "cell_type": "code",
   "execution_count": 382,
   "id": "3cf06211",
   "metadata": {},
   "outputs": [],
   "source": [
    "week21 = interactions[interactions['last_watch_dt'] >= max_date - datetime.timedelta(days=13)]\n",
    "week2 = week21.groupby('user_id', as_index=False).agg({'total_dur': sum})"
   ]
  },
  {
   "cell_type": "markdown",
   "id": "d659e276",
   "metadata": {},
   "source": [
    "### В days беру 13 дней потому что просят с 2021-08-09, а если взять days = 14 будет с 2021-08-08, видимо этот метод берет на один день больше"
   ]
  },
  {
   "cell_type": "code",
   "execution_count": 120,
   "id": "040b863c",
   "metadata": {},
   "outputs": [],
   "source": [
    "def salt_generator(salt=None):\n",
    "    import os\n",
    "    from base64 import b64encode # кодирует байтоподобный объект с помощью Base64 и возвращает закодированную байтовую строку.\n",
    "    salt = os.urandom(8)\n",
    "    \n",
    "    return b64encode(salt).decode('ascii')\n",
    "\n",
    "# '''os.urandom() method is used to generate a string of size random bytes suitable for cryptographic use \n",
    "#    or we can say this method generates a string containing random characters.'''\n",
    "# https://www.geeksforgeeks.org/python-os-urandom-method/ \n",
    "# Делим на 2 равные группы \n",
    "def groups_splitter(df, columns, user_salt):\n",
    "    \n",
    "    if user_salt == None:\n",
    "        salt = salt_generator()\n",
    "    else:\n",
    "        salt = user_salt\n",
    "    \n",
    "    df['hash'] = ((df['user_id'].astype(str)) + '#' + salt).apply(lambda x: hashlib.sha256(x.encode('utf-8')).hexdigest())\n",
    "\n",
    "    df['group'] = ((df['hash'].str.slice(start=-6).apply(int, base=16) % 2).map(lambda x: 'A' if x == 0 else 'B'))\n",
    "\n",
    "    return df[columns].drop_duplicates()"
   ]
  },
  {
   "cell_type": "code",
   "execution_count": 385,
   "id": "7f4dcc78",
   "metadata": {},
   "outputs": [],
   "source": [
    "def salt_generator(salt=None):\n",
    "    import os\n",
    "    from base64 import b64encode\n",
    "    salt = os.urandom(8)\n",
    "    \n",
    "    return b64encode(salt).decode('ascii')\n",
    "\n",
    "\n",
    "def get_bootstrap_array(arr):\n",
    "    return np.random.choice(arr, replace=True, size=len(arr))\n",
    "\n",
    "\n",
    "def calc_bootstrap_mean(arr, size=1000):\n",
    "    result = np.empty(size)\n",
    "    for i in range(size):\n",
    "        result[i] = np.mean(get_bootstrap_array(arr))\n",
    "    return result\n",
    "\n",
    "def get_p_value(dist):\n",
    "    dist = np.array(dist)\n",
    "    x = (dist > 0).mean()\n",
    "    pvalue = min(x, 1 - x) * 2\n",
    "    return pvalue"
   ]
  },
  {
   "cell_type": "markdown",
   "id": "fec6ac38",
   "metadata": {},
   "source": [
    "2) Посчитайте на этих данных корректность на бутстрепе и сравните ее с результатами за 1 неделю (посчитано на семинаре) (0.5 балла)"
   ]
  },
  {
   "cell_type": "markdown",
   "id": "f7cdfb4b",
   "metadata": {},
   "source": [
    "### Тут делаем все как на семинаре, для того чтобы посмотреть мощность добавим еще эффект"
   ]
  },
  {
   "cell_type": "code",
   "execution_count": 306,
   "id": "4b1e51c6",
   "metadata": {},
   "outputs": [
    {
     "name": "stderr",
     "output_type": "stream",
     "text": [
      "100%|█████████████████████████████████████| 1000/1000 [1:16:12<00:00,  4.57s/it]"
     ]
    },
    {
     "name": "stdout",
     "output_type": "stream",
     "text": [
      "significance: 5.6000000000000005%\n"
     ]
    },
    {
     "name": "stderr",
     "output_type": "stream",
     "text": [
      "\n"
     ]
    }
   ],
   "source": [
    "correctness = []\n",
    "values = []\n",
    "\n",
    "for i in tqdm(range(1000)): # в дз используем 1000 итераций \n",
    "    \n",
    "    new_df = groups_splitter(week2.copy(), columns=['user_id', 'total_dur', 'group'], user_salt=salt_generator()).drop_duplicates()\n",
    "\n",
    "    \n",
    "    vec_a = new_df[(new_df['group'] == 'A')]['total_dur']\n",
    "    vec_b = new_df[(new_df['group'] == 'B')]['total_dur']\n",
    "    \n",
    "    #bootstrap\n",
    "    sample_a_mean = calc_bootstrap_mean(vec_a, size=1000) # на бутстрэпе считаем средние для вектора\n",
    "    sample_b_mean = calc_bootstrap_mean(vec_b, size=1000)\n",
    "    values.append(sample_a_mean - sample_b_mean)\n",
    "    \n",
    "    left_side, right_side = np.percentile(sample_a_mean - sample_b_mean, \n",
    "                                                  [100 * 0.05 / 2., 100 * (1 - 0.05 / 2.)]) # считаем 95% доверительный интервал для разницы средних\n",
    "    \n",
    "    correctness.append(not left_side <= 0 <= right_side)\n",
    "    \n",
    "    test_correctness = collections.Counter(correctness)\n",
    "    \n",
    "print(f'significance: {test_correctness[1]/(test_correctness[1] + test_correctness[0])*100}%')"
   ]
  },
  {
   "cell_type": "markdown",
   "id": "fb428ae1",
   "metadata": {},
   "source": [
    "На семинаре получилось 5% для 1 недели, тут чуть побольше, данных в целом стало больше и вероятность того, что нашли изменения где их нет могла увечилится"
   ]
  },
  {
   "cell_type": "markdown",
   "id": "a75180f4",
   "metadata": {},
   "source": [
    "3) На двух неделях посчитайте мощность. Для этого нужно в одну из групп докинуть эффект. Докиньте эффект в 1%, 3% и 5% и сравните полученную мощность (1.5 балла)"
   ]
  },
  {
   "cell_type": "code",
   "execution_count": 373,
   "id": "a3bee0ae",
   "metadata": {},
   "outputs": [
    {
     "name": "stderr",
     "output_type": "stream",
     "text": [
      "100%|█████████████████████████████████████| 1000/1000 [1:15:54<00:00,  4.55s/it]\n"
     ]
    },
    {
     "name": "stdout",
     "output_type": "stream",
     "text": [
      "Effect: 1.0%, Power: 11.700000000000001%\n"
     ]
    },
    {
     "name": "stderr",
     "output_type": "stream",
     "text": [
      "100%|█████████████████████████████████████| 1000/1000 [1:16:03<00:00,  4.56s/it]\n"
     ]
    },
    {
     "name": "stdout",
     "output_type": "stream",
     "text": [
      "Effect: 3.0%, Power: 61.199999999999996%\n"
     ]
    },
    {
     "name": "stderr",
     "output_type": "stream",
     "text": [
      "100%|█████████████████████████████████████| 1000/1000 [1:16:09<00:00,  4.57s/it]"
     ]
    },
    {
     "name": "stdout",
     "output_type": "stream",
     "text": [
      "Effect: 5.0%, Power: 96.3%\n"
     ]
    },
    {
     "name": "stderr",
     "output_type": "stream",
     "text": [
      "\n"
     ]
    }
   ],
   "source": [
    "effects = [0.01, 0.03, 0.05] # Эффекты в размере 1%, 3% и 5%\n",
    "\n",
    "for effect in effects:\n",
    "    correctness = []\n",
    "    values = []\n",
    "\n",
    "    for i in tqdm(range(1000)): # в дз используем 1000 итераций\n",
    "        new_df = groups_splitter(week2.copy(), columns=['user_id', 'total_dur', 'group'], user_salt=salt_generator()).drop_duplicates()\n",
    "\n",
    "        # Добавление эффекта к группе B\n",
    "        new_df.loc[new_df['group'] == 'B', 'total_dur'] *= (1 + effect)\n",
    "\n",
    "        vec_a = new_df[(new_df['group'] == 'A')]['total_dur']\n",
    "        vec_b = new_df[(new_df['group'] == 'B')]['total_dur']\n",
    "    \n",
    "        # Бутстрап и расчет средних\n",
    "        sample_a_mean = calc_bootstrap_mean(vec_a, size=1000)\n",
    "        sample_b_mean = calc_bootstrap_mean(vec_b, size=1000)\n",
    "        values.append(sample_a_mean - sample_b_mean)\n",
    "    \n",
    "        # Вычисление доверительного интервала\n",
    "        left_side, right_side = np.percentile(sample_a_mean - sample_b_mean, \n",
    "                                              [100 * 0.05 / 2., 100 * (1 - 0.05 / 2.)])\n",
    "    \n",
    "        correctness.append(not left_side <= 0 <= right_side)\n",
    "    \n",
    "    # Расчет и вывод мощности для текущего эффекта\n",
    "    test_correctness = collections.Counter(correctness)\n",
    "    power = test_correctness[1]/(test_correctness[1] + test_correctness[0]) * 100\n",
    "    print(f'Effect: {effect*100}%, Power: {power}%')\n"
   ]
  },
  {
   "cell_type": "markdown",
   "id": "f0db9d47",
   "metadata": {},
   "source": [
    "### Получили, что при увеличении размера эффекта мощность становится больше. Это логично, ведь мощность - вероятность того, что тест обнаружит эффект, если такой эффект действительно существует."
   ]
  },
  {
   "cell_type": "markdown",
   "id": "a8e86b47",
   "metadata": {},
   "source": [
    "Посчитайте MDE, который можно зафиксировать на 2х неделях. В качестве alpha и beta подставьте ваши вычисленные ошибки 1 и 2 рода. Учитывайте что у нас формула для MDE работает для t-test или z-test (1 балл"
   ]
  },
  {
   "cell_type": "code",
   "execution_count": 375,
   "id": "d461f993",
   "metadata": {},
   "outputs": [],
   "source": [
    "def get_mde(metric_vec, alpha=0.05, beta=0.2):\n",
    "    \n",
    "    metric_mean, metric_std, metric_n = metric_vec.mean(), metric_vec.std(), metric_vec.count()\n",
    "    \n",
    "    z_alpha = norm.ppf(1 - (alpha / 2), loc=0, scale=1)\n",
    "    z_beta = norm.ppf(1 - beta, loc=0, scale=1)\n",
    "    \n",
    "    mde = (z_alpha + z_beta)*metric_std / np.sqrt(metric_n)\n",
    "    \n",
    "    return mde*100/metric_mean"
   ]
  },
  {
   "cell_type": "code",
   "execution_count": 377,
   "id": "9d5015a1",
   "metadata": {},
   "outputs": [
    {
     "data": {
      "text/plain": [
       "2.1036611572203694"
      ]
     },
     "execution_count": 377,
     "metadata": {},
     "output_type": "execute_result"
    }
   ],
   "source": [
    "get_mde(week2.total_dur, alpha = 0.056, beta = 0.11)"
   ]
  },
  {
   "cell_type": "code",
   "execution_count": 378,
   "id": "10bed07d",
   "metadata": {},
   "outputs": [
    {
     "data": {
      "text/plain": [
       "1.0940268032271505"
      ]
     },
     "execution_count": 378,
     "metadata": {},
     "output_type": "execute_result"
    }
   ],
   "source": [
    "get_mde(week2.total_dur, alpha = 0.056, beta = 0.61)"
   ]
  },
  {
   "cell_type": "code",
   "execution_count": 379,
   "id": "c91d4511",
   "metadata": {},
   "outputs": [
    {
     "data": {
      "text/plain": [
       "0.10751054009404078"
      ]
     },
     "execution_count": 379,
     "metadata": {},
     "output_type": "execute_result"
    }
   ],
   "source": [
    "get_mde(week2.total_dur, alpha = 0.056, beta = 0.96)"
   ]
  },
  {
   "cell_type": "markdown",
   "id": "44d82e68",
   "metadata": {},
   "source": [
    "### При мощности 96% получили совсем хороший MDE, но при этом кажется что и для 61% MDE нас устроит при определенных экспериментах, где ожидается значительное изменение поведения пользователей"
   ]
  },
  {
   "cell_type": "markdown",
   "id": "c2f6b1f1",
   "metadata": {},
   "source": [
    "### Проведение А/Б теста"
   ]
  },
  {
   "cell_type": "code",
   "execution_count": 307,
   "id": "74b998ba",
   "metadata": {},
   "outputs": [
    {
     "data": {
      "text/html": [
       "<div>\n",
       "<style scoped>\n",
       "    .dataframe tbody tr th:only-of-type {\n",
       "        vertical-align: middle;\n",
       "    }\n",
       "\n",
       "    .dataframe tbody tr th {\n",
       "        vertical-align: top;\n",
       "    }\n",
       "\n",
       "    .dataframe thead th {\n",
       "        text-align: right;\n",
       "    }\n",
       "</style>\n",
       "<table border=\"1\" class=\"dataframe\">\n",
       "  <thead>\n",
       "    <tr style=\"text-align: right;\">\n",
       "      <th></th>\n",
       "      <th>user_id</th>\n",
       "      <th>total_dur</th>\n",
       "    </tr>\n",
       "  </thead>\n",
       "  <tbody>\n",
       "    <tr>\n",
       "      <th>0</th>\n",
       "      <td>1</td>\n",
       "      <td>21172</td>\n",
       "    </tr>\n",
       "    <tr>\n",
       "      <th>1</th>\n",
       "      <td>1000</td>\n",
       "      <td>10744</td>\n",
       "    </tr>\n",
       "    <tr>\n",
       "      <th>2</th>\n",
       "      <td>1000000</td>\n",
       "      <td>32990</td>\n",
       "    </tr>\n",
       "    <tr>\n",
       "      <th>3</th>\n",
       "      <td>1000001</td>\n",
       "      <td>52</td>\n",
       "    </tr>\n",
       "    <tr>\n",
       "      <th>4</th>\n",
       "      <td>1000003</td>\n",
       "      <td>625</td>\n",
       "    </tr>\n",
       "    <tr>\n",
       "      <th>...</th>\n",
       "      <td>...</td>\n",
       "      <td>...</td>\n",
       "    </tr>\n",
       "    <tr>\n",
       "      <th>266076</th>\n",
       "      <td>999978</td>\n",
       "      <td>11172</td>\n",
       "    </tr>\n",
       "    <tr>\n",
       "      <th>266077</th>\n",
       "      <td>999987</td>\n",
       "      <td>27888</td>\n",
       "    </tr>\n",
       "    <tr>\n",
       "      <th>266078</th>\n",
       "      <td>999989</td>\n",
       "      <td>4563</td>\n",
       "    </tr>\n",
       "    <tr>\n",
       "      <th>266079</th>\n",
       "      <td>999990</td>\n",
       "      <td>997</td>\n",
       "    </tr>\n",
       "    <tr>\n",
       "      <th>266080</th>\n",
       "      <td>999993</td>\n",
       "      <td>17228</td>\n",
       "    </tr>\n",
       "  </tbody>\n",
       "</table>\n",
       "<p>266081 rows × 2 columns</p>\n",
       "</div>"
      ],
      "text/plain": [
       "        user_id  total_dur\n",
       "0             1      21172\n",
       "1          1000      10744\n",
       "2       1000000      32990\n",
       "3       1000001         52\n",
       "4       1000003        625\n",
       "...         ...        ...\n",
       "266076   999978      11172\n",
       "266077   999987      27888\n",
       "266078   999989       4563\n",
       "266079   999990        997\n",
       "266080   999993      17228\n",
       "\n",
       "[266081 rows x 2 columns]"
      ]
     },
     "execution_count": 307,
     "metadata": {},
     "output_type": "execute_result"
    }
   ],
   "source": [
    "week2"
   ]
  },
  {
   "cell_type": "code",
   "execution_count": 308,
   "id": "a50a8cd4",
   "metadata": {},
   "outputs": [],
   "source": [
    "def process_data(df):\n",
    "    df['total_dur'] = df['total_dur'].apply(lambda x: 0 if x < 500 else x)\n",
    "    return df\n",
    "\n",
    "def apply_effect(df):\n",
    "    group_b_top_10_percent = df[df['group'] == 'B'].nlargest(int(len(df[df['group'] == 'B']) * 0.1), 'total_dur')\n",
    "    group_b_top_10_percent['total_dur'] *= 1.025\n",
    "    df.update(group_b_top_10_percent)\n",
    "    return df\n",
    "\n"
   ]
  },
  {
   "cell_type": "markdown",
   "id": "c8dd7a10",
   "metadata": {},
   "source": [
    "Представим что у нас прошел тест, используем те же самые данные за 2 недели\n",
    "\n",
    "Занулите для всех пользователей total_dur, у которых total_dur < 500. Их НЕ УБИРАЕМ, а просто обрабатываем эти значения, принимая за нулевые, но пользователей также учитываем в эксперименте (0.5 балла)\n",
    "\n",
    "Разбейте их самостоятельно на две равные группы, используйте функцию groups_splitter и соль = 'kiontestmodel20210805' (0.5 балла)\n",
    "\n",
    "Оказалось, что модель в группе В показала себя лучше, чем в группе А на 2.5%, причем эффект распространился неравномерно и преимущественно на 10% самых смотрящих пользователей, докиньте такой эффект самостоятельно. Нужно метрику total_dur увеличить на 2.5% для 10% пользователей с самым продолжительным смотрением. (1 балл)\n"
   ]
  },
  {
   "cell_type": "code",
   "execution_count": 309,
   "id": "ccac1ef0",
   "metadata": {},
   "outputs": [],
   "source": [
    "week2_ab = week2.copy()\n",
    "week2_ab = process_data(week2_ab)"
   ]
  },
  {
   "cell_type": "code",
   "execution_count": 310,
   "id": "562fc943",
   "metadata": {},
   "outputs": [],
   "source": [
    "new_df_ab = groups_splitter(week2_ab.copy(), columns=['user_id', 'total_dur', 'group'], user_salt='kiontestmodel20210805').drop_duplicates()"
   ]
  },
  {
   "cell_type": "code",
   "execution_count": 311,
   "id": "97ffb3a4",
   "metadata": {},
   "outputs": [
    {
     "data": {
      "text/plain": [
       "184015    9731801\n",
       "212341    6975878\n",
       "98847     5263297\n",
       "5425      4321327\n",
       "246500    4175405\n",
       "           ...   \n",
       "165101      47025\n",
       "165890      47025\n",
       "241438      47023\n",
       "50723       47010\n",
       "222256      47010\n",
       "Name: total_dur, Length: 13247, dtype: int64"
      ]
     },
     "execution_count": 311,
     "metadata": {},
     "output_type": "execute_result"
    }
   ],
   "source": [
    "new_df_ab[new_df_ab['group'] == 'B'].nlargest(int(len(new_df_ab[new_df_ab['group'] == 'B']) * 0.1), 'total_dur').total_dur"
   ]
  },
  {
   "cell_type": "code",
   "execution_count": 312,
   "id": "590d6c20",
   "metadata": {},
   "outputs": [
    {
     "name": "stdout",
     "output_type": "stream",
     "text": [
      "21391.220346087062\n",
      "21379.392857412455\n"
     ]
    }
   ],
   "source": [
    "print(new_df_ab[new_df_ab.group == 'A'].total_dur.mean())\n",
    "print(new_df_ab[new_df_ab.group == 'B'].total_dur.mean())"
   ]
  },
  {
   "cell_type": "code",
   "execution_count": 313,
   "id": "8271b34b",
   "metadata": {},
   "outputs": [
    {
     "name": "stdout",
     "output_type": "stream",
     "text": [
      "5016155405.232444\n",
      "5953874843.652875\n"
     ]
    }
   ],
   "source": [
    "print(new_df_ab[new_df_ab.group == 'A'].total_dur.var())\n",
    "print(new_df_ab[new_df_ab.group == 'B'].total_dur.var())"
   ]
  },
  {
   "cell_type": "code",
   "execution_count": 314,
   "id": "947819df",
   "metadata": {},
   "outputs": [],
   "source": [
    "df_list = apply_effect(new_df_ab)"
   ]
  },
  {
   "cell_type": "code",
   "execution_count": 315,
   "id": "bad0b6ad",
   "metadata": {},
   "outputs": [
    {
     "data": {
      "text/plain": [
       "184015    9975096.025\n",
       "212341    7150274.950\n",
       "98847     5394879.425\n",
       "5425      4429360.175\n",
       "246500    4279790.125\n",
       "             ...     \n",
       "165101      48200.625\n",
       "165890      48200.625\n",
       "241438      48198.575\n",
       "50723       48185.250\n",
       "222256      48185.250\n",
       "Name: total_dur, Length: 13247, dtype: float64"
      ]
     },
     "execution_count": 315,
     "metadata": {},
     "output_type": "execute_result"
    }
   ],
   "source": [
    "df_list[df_list['group'] == 'B'].nlargest(int(len(df_list[df_list['group'] == 'B']) * 0.1), 'total_dur').total_dur"
   ]
  },
  {
   "cell_type": "code",
   "execution_count": 316,
   "id": "b5a6c2c6",
   "metadata": {},
   "outputs": [
    {
     "name": "stdout",
     "output_type": "stream",
     "text": [
      "21391.220346087062\n",
      "21718.058720456243\n"
     ]
    }
   ],
   "source": [
    "print(df_list[df_list.group == 'A'].total_dur.mean())\n",
    "print(df_list[df_list.group == 'B'].total_dur.mean())"
   ]
  },
  {
   "cell_type": "code",
   "execution_count": 317,
   "id": "fb0a436f",
   "metadata": {},
   "outputs": [
    {
     "name": "stdout",
     "output_type": "stream",
     "text": [
      "5016155405.232444\n",
      "6255068579.815294\n"
     ]
    }
   ],
   "source": [
    "print(df_list[df_list.group == 'A'].total_dur.var())\n",
    "print(df_list[df_list.group == 'B'].total_dur.var())"
   ]
  },
  {
   "cell_type": "code",
   "execution_count": 291,
   "id": "ae33938c",
   "metadata": {},
   "outputs": [
    {
     "data": {
      "text/html": [
       "<div>\n",
       "<style scoped>\n",
       "    .dataframe tbody tr th:only-of-type {\n",
       "        vertical-align: middle;\n",
       "    }\n",
       "\n",
       "    .dataframe tbody tr th {\n",
       "        vertical-align: top;\n",
       "    }\n",
       "\n",
       "    .dataframe thead th {\n",
       "        text-align: right;\n",
       "    }\n",
       "</style>\n",
       "<table border=\"1\" class=\"dataframe\">\n",
       "  <thead>\n",
       "    <tr style=\"text-align: right;\">\n",
       "      <th></th>\n",
       "      <th>user_id</th>\n",
       "      <th>total_dur</th>\n",
       "      <th>group</th>\n",
       "    </tr>\n",
       "  </thead>\n",
       "  <tbody>\n",
       "    <tr>\n",
       "      <th>0</th>\n",
       "      <td>1</td>\n",
       "      <td>21172.0</td>\n",
       "      <td>B</td>\n",
       "    </tr>\n",
       "    <tr>\n",
       "      <th>1</th>\n",
       "      <td>1000</td>\n",
       "      <td>10744.0</td>\n",
       "      <td>B</td>\n",
       "    </tr>\n",
       "    <tr>\n",
       "      <th>2</th>\n",
       "      <td>1000000</td>\n",
       "      <td>32990.0</td>\n",
       "      <td>B</td>\n",
       "    </tr>\n",
       "    <tr>\n",
       "      <th>3</th>\n",
       "      <td>1000001</td>\n",
       "      <td>0.0</td>\n",
       "      <td>B</td>\n",
       "    </tr>\n",
       "    <tr>\n",
       "      <th>4</th>\n",
       "      <td>1000003</td>\n",
       "      <td>625.0</td>\n",
       "      <td>A</td>\n",
       "    </tr>\n",
       "    <tr>\n",
       "      <th>...</th>\n",
       "      <td>...</td>\n",
       "      <td>...</td>\n",
       "      <td>...</td>\n",
       "    </tr>\n",
       "    <tr>\n",
       "      <th>266076</th>\n",
       "      <td>999978</td>\n",
       "      <td>11172.0</td>\n",
       "      <td>A</td>\n",
       "    </tr>\n",
       "    <tr>\n",
       "      <th>266077</th>\n",
       "      <td>999987</td>\n",
       "      <td>27888.0</td>\n",
       "      <td>A</td>\n",
       "    </tr>\n",
       "    <tr>\n",
       "      <th>266078</th>\n",
       "      <td>999989</td>\n",
       "      <td>4563.0</td>\n",
       "      <td>B</td>\n",
       "    </tr>\n",
       "    <tr>\n",
       "      <th>266079</th>\n",
       "      <td>999990</td>\n",
       "      <td>997.0</td>\n",
       "      <td>B</td>\n",
       "    </tr>\n",
       "    <tr>\n",
       "      <th>266080</th>\n",
       "      <td>999993</td>\n",
       "      <td>17228.0</td>\n",
       "      <td>A</td>\n",
       "    </tr>\n",
       "  </tbody>\n",
       "</table>\n",
       "<p>266081 rows × 3 columns</p>\n",
       "</div>"
      ],
      "text/plain": [
       "        user_id  total_dur group\n",
       "0             1    21172.0     B\n",
       "1          1000    10744.0     B\n",
       "2       1000000    32990.0     B\n",
       "3       1000001        0.0     B\n",
       "4       1000003      625.0     A\n",
       "...         ...        ...   ...\n",
       "266076   999978    11172.0     A\n",
       "266077   999987    27888.0     A\n",
       "266078   999989     4563.0     B\n",
       "266079   999990      997.0     B\n",
       "266080   999993    17228.0     A\n",
       "\n",
       "[266081 rows x 3 columns]"
      ]
     },
     "execution_count": 291,
     "metadata": {},
     "output_type": "execute_result"
    }
   ],
   "source": [
    "df_list"
   ]
  },
  {
   "cell_type": "markdown",
   "id": "b0973d2f",
   "metadata": {},
   "source": [
    "### Сделали все описанию, но в группе Б даже после вот этих неравномерных изменений среднее меняется не особо сильно, но вот дисперсия выросла прилично и понятно почему - пользователи из верхних 10% увеличили свою метрику и следовательно за счет них дисперсия и увел. "
   ]
  },
  {
   "cell_type": "code",
   "execution_count": 319,
   "id": "7df71e39",
   "metadata": {},
   "outputs": [
    {
     "data": {
      "image/png": "[encoded data removed]",
      "text/plain": [
       "<Figure size 300x300 with 1 Axes>"
      ]
     },
     "metadata": {},
     "output_type": "display_data"
    }
   ],
   "source": [
    "df_list['total_dur'].hist(bins=100, figsize=(3,3))\n",
    "plt.ylim([0, 10000])\n",
    "plt.grid(False)"
   ]
  },
  {
   "cell_type": "code",
   "execution_count": 320,
   "id": "4e181772",
   "metadata": {},
   "outputs": [
    {
     "data": {
      "image/png": "[encoded data removed]",
      "text/plain": [
       "<Figure size 300x300 with 1 Axes>"
      ]
     },
     "metadata": {},
     "output_type": "display_data"
    }
   ],
   "source": [
    "df_list[df_list.group == 'B']['total_dur'].hist(bins=100, figsize=(3,3))\n",
    "plt.ylim([0, 10000])\n",
    "plt.grid(False)"
   ]
  },
  {
   "cell_type": "code",
   "execution_count": 321,
   "id": "3fdcfbb5",
   "metadata": {},
   "outputs": [
    {
     "data": {
      "image/png": "[encoded data removed]",
      "text/plain": [
       "<Figure size 300x300 with 1 Axes>"
      ]
     },
     "metadata": {},
     "output_type": "display_data"
    }
   ],
   "source": [
    "df_list[df_list.group == 'A']['total_dur'].hist(bins=100, figsize=(3,3))\n",
    "plt.ylim([0, 10000])\n",
    "plt.grid(False)"
   ]
  },
  {
   "cell_type": "markdown",
   "id": "00734dbc",
   "metadata": {},
   "source": [
    " Не буду удалять выбросы, все же для этого нужно немного побольше контекста"
   ]
  },
  {
   "cell_type": "code",
   "execution_count": 326,
   "id": "07afa18a",
   "metadata": {},
   "outputs": [
    {
     "data": {
      "text/plain": [
       "1.015279089695739"
      ]
     },
     "execution_count": 326,
     "metadata": {},
     "output_type": "execute_result"
    }
   ],
   "source": [
    "df_list[df_list.group == 'B'].total_dur.mean()/df_list[df_list.group == 'A'].total_dur.mean()"
   ]
  },
  {
   "cell_type": "markdown",
   "id": "2b593acd",
   "metadata": {},
   "source": [
    " Мы видим, что среднее в группе B немного больше, попробуем посмотреть сможет ли хоть какой-то тест сможет обнаружить эту разницу, сначала попробуем bootstrap, но мне кажется тут он хорошо не сработает, но попробовать его точно стоит тк распределение скошенное и t-test или z-test сразу тут применять не хочется. "
   ]
  },
  {
   "cell_type": "markdown",
   "id": "c9045a41",
   "metadata": {},
   "source": [
    "Ну и сразу сформулируем гипотезы, чтобы вообще понимать чем мы занимаемся\n",
    "\\begin{align*}\n",
    "H_0 &: \\mu_1 = \\mu_2 \\\\\n",
    "H_1 &: \\mu_1 \\neq \\mu_2\n",
    "\\end{align*}\n"
   ]
  },
  {
   "cell_type": "code",
   "execution_count": 325,
   "id": "0fb0bc57",
   "metadata": {},
   "outputs": [
    {
     "name": "stderr",
     "output_type": "stream",
     "text": [
      "100%|████████████████████████████████████| 10000/10000 [00:25<00:00, 392.36it/s]"
     ]
    },
    {
     "name": "stdout",
     "output_type": "stream",
     "text": [
      "p-value: 0.5096\n",
      "Нет достаточных оснований считать средние значения в группах различными.\n"
     ]
    },
    {
     "name": "stderr",
     "output_type": "stream",
     "text": [
      "\n"
     ]
    }
   ],
   "source": [
    "def bootstrap_test(data1, data2, n_bootstrap=10000):\n",
    "    observed_mean_diff = np.mean(data1) - np.mean(data2)\n",
    "    mean_diffs = []\n",
    "\n",
    "    for _ in tqdm(range(n_bootstrap)):\n",
    "        boot_data1 = np.random.choice(data1, size=len(data1), replace=True)\n",
    "        boot_data2 = np.random.choice(data2, size=len(data2), replace=True)\n",
    "        boot_mean_diff = np.mean(boot_data1) - np.mean(boot_data2)\n",
    "        mean_diffs.append(boot_mean_diff)\n",
    "\n",
    "    # Двусторонний расчет p-значения\n",
    "    p_value = np.sum(np.abs(mean_diffs) >= np.abs(observed_mean_diff)) / n_bootstrap\n",
    "    return p_value\n",
    "\n",
    "# Пример использования функции\n",
    "p_value = bootstrap_test(group_A.total_dur, group_B.total_dur)\n",
    "print(f\"p-value: {p_value}\")\n",
    "\n",
    "if p_value < 0.05:\n",
    "    print(\"Средние значения в группах статистически значительно различаются.\")\n",
    "else:\n",
    "    print(\"Нет достаточных оснований считать средние значения в группах различными.\")\n"
   ]
  },
  {
   "cell_type": "code",
   "execution_count": 372,
   "id": "8a1278f6",
   "metadata": {},
   "outputs": [
    {
     "name": "stderr",
     "output_type": "stream",
     "text": [
      "100%|██████████████████████████████████| 100000/100000 [07:00<00:00, 237.56it/s]"
     ]
    },
    {
     "name": "stdout",
     "output_type": "stream",
     "text": [
      "Доверительный интервал: (-902.7200378754279, 236.9098979215785)\n",
      "Принимаемая гипотеза: H_0\n"
     ]
    },
    {
     "name": "stderr",
     "output_type": "stream",
     "text": [
      "\n"
     ]
    }
   ],
   "source": [
    "import numpy as np\n",
    "from tqdm import tqdm\n",
    "from scipy.stats import norm\n",
    "\n",
    "def bootstrap_AB_test(data1, data2, n_bootstrap=100000, alpha=0.05):\n",
    "    # Вычисляем разность средних в исходных данных\n",
    "    observed_mean_diff = np.mean(data1) - np.mean(data2)\n",
    "    mean_diffs = []\n",
    "\n",
    "    # Генерируем бутстрап-подвыборки и вычисляем разности средних\n",
    "    for _ in tqdm(range(n_bootstrap)):\n",
    "        boot_data1 = np.random.choice(data1, size=len(data1), replace=True)\n",
    "        boot_data2 = np.random.choice(data2, size=len(data2), replace=True)\n",
    "        boot_mean_diff = np.mean(boot_data1) - np.mean(boot_data2)\n",
    "        mean_diffs.append(boot_mean_diff)\n",
    "\n",
    "    # Считаем доверительный интервал\n",
    "    lower_bound = np.percentile(mean_diffs, (alpha/2)*100)\n",
    "    upper_bound = np.percentile(mean_diffs, (1-alpha/2)*100)\n",
    "\n",
    "    # Проверяем, попадает ли нуль в доверительный интервал\n",
    "    if lower_bound <= 0 <= upper_bound:\n",
    "        hypothesis = 'H_0'\n",
    "    else:\n",
    "        hypothesis = 'H_1'\n",
    "\n",
    "    return (lower_bound, upper_bound), hypothesis\n",
    "\n",
    "# Пример использования функции\n",
    "confidence_interval, hypothesis = bootstrap_AB_test(group_A.total_dur, group_B.total_dur)\n",
    "print(f\"Доверительный интервал: {confidence_interval}\")\n",
    "print(f\"Принимаемая гипотеза: {hypothesis}\")\n"
   ]
  },
  {
   "cell_type": "markdown",
   "id": "6d470388",
   "metadata": {},
   "source": [
    "### По опыту в ситуациях со скошенными распределениями хочется применять не логарфим, корень или другие преобразования, а попробовать применить бакетное преобразование."
   ]
  },
  {
   "cell_type": "code",
   "execution_count": 334,
   "id": "42050499",
   "metadata": {},
   "outputs": [
    {
     "name": "stderr",
     "output_type": "stream",
     "text": [
      "/var/folders/rb/xr511ym54773mfmyy2h4lmfr0000gn/T/ipykernel_14872/2519959318.py:6: SettingWithCopyWarning: \n",
      "A value is trying to be set on a copy of a slice from a DataFrame.\n",
      "Try using .loc[row_indexer,col_indexer] = value instead\n",
      "\n",
      "See the caveats in the documentation: https://pandas.pydata.org/pandas-docs/stable/user_guide/indexing.html#returning-a-view-versus-a-copy\n",
      "  group_A['bucket'] = group_A['user_id'].apply(\n",
      "/var/folders/rb/xr511ym54773mfmyy2h4lmfr0000gn/T/ipykernel_14872/2519959318.py:9: SettingWithCopyWarning: \n",
      "A value is trying to be set on a copy of a slice from a DataFrame.\n",
      "Try using .loc[row_indexer,col_indexer] = value instead\n",
      "\n",
      "See the caveats in the documentation: https://pandas.pydata.org/pandas-docs/stable/user_guide/indexing.html#returning-a-view-versus-a-copy\n",
      "  group_B['bucket'] = group_B['user_id'].apply(\n"
     ]
    }
   ],
   "source": [
    "# Разделение DataFrame на две группы\n",
    "group_A = df_list[df_list['group'] == 'A']\n",
    "group_B = df_list[df_list['group'] == 'B']\n",
    "\n",
    "# Применение функции генерации бакетов к каждой группе\n",
    "group_A['bucket'] = group_A['user_id'].apply(\n",
    "    lambda x: int(hashlib.md5((str(x) + 'salt_A').encode()).hexdigest(), 16) % 250\n",
    ")\n",
    "group_B['bucket'] = group_B['user_id'].apply(\n",
    "    lambda x: int(hashlib.md5((str(x) + 'salt_B').encode()).hexdigest(), 16) % 250\n",
    ")\n",
    "\n",
    "# Объединение групп обратно в один DataFrame\n",
    "week2f = pd.concat([group_A, group_B])\n"
   ]
  },
  {
   "cell_type": "code",
   "execution_count": 335,
   "id": "1bd8f0f2",
   "metadata": {},
   "outputs": [
    {
     "data": {
      "text/html": [
       "<div>\n",
       "<style scoped>\n",
       "    .dataframe tbody tr th:only-of-type {\n",
       "        vertical-align: middle;\n",
       "    }\n",
       "\n",
       "    .dataframe tbody tr th {\n",
       "        vertical-align: top;\n",
       "    }\n",
       "\n",
       "    .dataframe thead th {\n",
       "        text-align: right;\n",
       "    }\n",
       "</style>\n",
       "<table border=\"1\" class=\"dataframe\">\n",
       "  <thead>\n",
       "    <tr style=\"text-align: right;\">\n",
       "      <th></th>\n",
       "      <th>user_id</th>\n",
       "      <th>total_dur</th>\n",
       "      <th>group</th>\n",
       "      <th>bucket</th>\n",
       "    </tr>\n",
       "  </thead>\n",
       "  <tbody>\n",
       "    <tr>\n",
       "      <th>4</th>\n",
       "      <td>1000003</td>\n",
       "      <td>625.0</td>\n",
       "      <td>A</td>\n",
       "      <td>53</td>\n",
       "    </tr>\n",
       "    <tr>\n",
       "      <th>5</th>\n",
       "      <td>1000008</td>\n",
       "      <td>3691.0</td>\n",
       "      <td>A</td>\n",
       "      <td>216</td>\n",
       "    </tr>\n",
       "    <tr>\n",
       "      <th>6</th>\n",
       "      <td>1000009</td>\n",
       "      <td>2444.0</td>\n",
       "      <td>A</td>\n",
       "      <td>13</td>\n",
       "    </tr>\n",
       "    <tr>\n",
       "      <th>7</th>\n",
       "      <td>100001</td>\n",
       "      <td>67000.0</td>\n",
       "      <td>A</td>\n",
       "      <td>160</td>\n",
       "    </tr>\n",
       "    <tr>\n",
       "      <th>8</th>\n",
       "      <td>1000013</td>\n",
       "      <td>2430.0</td>\n",
       "      <td>A</td>\n",
       "      <td>52</td>\n",
       "    </tr>\n",
       "    <tr>\n",
       "      <th>...</th>\n",
       "      <td>...</td>\n",
       "      <td>...</td>\n",
       "      <td>...</td>\n",
       "      <td>...</td>\n",
       "    </tr>\n",
       "    <tr>\n",
       "      <th>266072</th>\n",
       "      <td>999968</td>\n",
       "      <td>16313.0</td>\n",
       "      <td>B</td>\n",
       "      <td>190</td>\n",
       "    </tr>\n",
       "    <tr>\n",
       "      <th>266074</th>\n",
       "      <td>99997</td>\n",
       "      <td>30672.0</td>\n",
       "      <td>B</td>\n",
       "      <td>172</td>\n",
       "    </tr>\n",
       "    <tr>\n",
       "      <th>266075</th>\n",
       "      <td>999977</td>\n",
       "      <td>4570.0</td>\n",
       "      <td>B</td>\n",
       "      <td>180</td>\n",
       "    </tr>\n",
       "    <tr>\n",
       "      <th>266078</th>\n",
       "      <td>999989</td>\n",
       "      <td>4563.0</td>\n",
       "      <td>B</td>\n",
       "      <td>78</td>\n",
       "    </tr>\n",
       "    <tr>\n",
       "      <th>266079</th>\n",
       "      <td>999990</td>\n",
       "      <td>997.0</td>\n",
       "      <td>B</td>\n",
       "      <td>116</td>\n",
       "    </tr>\n",
       "  </tbody>\n",
       "</table>\n",
       "<p>266081 rows × 4 columns</p>\n",
       "</div>"
      ],
      "text/plain": [
       "        user_id  total_dur group  bucket\n",
       "4       1000003      625.0     A      53\n",
       "5       1000008     3691.0     A     216\n",
       "6       1000009     2444.0     A      13\n",
       "7        100001    67000.0     A     160\n",
       "8       1000013     2430.0     A      52\n",
       "...         ...        ...   ...     ...\n",
       "266072   999968    16313.0     B     190\n",
       "266074    99997    30672.0     B     172\n",
       "266075   999977     4570.0     B     180\n",
       "266078   999989     4563.0     B      78\n",
       "266079   999990      997.0     B     116\n",
       "\n",
       "[266081 rows x 4 columns]"
      ]
     },
     "execution_count": 335,
     "metadata": {},
     "output_type": "execute_result"
    }
   ],
   "source": [
    "week2f"
   ]
  },
  {
   "cell_type": "markdown",
   "id": "6af7bf8a",
   "metadata": {},
   "source": [
    "Делаем преобразование по бакетам и считаем среднее в каждом, в целом можно и сумму"
   ]
  },
  {
   "cell_type": "code",
   "execution_count": 345,
   "id": "41da1d05",
   "metadata": {},
   "outputs": [],
   "source": [
    "grouped_week2 = week2f.groupby(['group', 'bucket']).agg({'total_dur':'mean'}).reset_index()"
   ]
  },
  {
   "cell_type": "code",
   "execution_count": 346,
   "id": "c2cb8462",
   "metadata": {},
   "outputs": [
    {
     "data": {
      "text/plain": [
       "<AxesSubplot: >"
      ]
     },
     "execution_count": 346,
     "metadata": {},
     "output_type": "execute_result"
    },
    {
     "data": {
      "image/png": "[encoded data removed]",
      "text/plain": [
       "<Figure size 300x300 with 1 Axes>"
      ]
     },
     "metadata": {},
     "output_type": "display_data"
    }
   ],
   "source": [
    "grouped_week2['total_dur'].hist(bins=100, figsize=(3,3))\n"
   ]
  },
  {
   "cell_type": "code",
   "execution_count": 347,
   "id": "04670af5",
   "metadata": {},
   "outputs": [
    {
     "data": {
      "text/plain": [
       "<AxesSubplot: >"
      ]
     },
     "execution_count": 347,
     "metadata": {},
     "output_type": "execute_result"
    },
    {
     "data": {
      "image/png": "[encoded data removed]",
      "text/plain": [
       "<Figure size 300x300 with 1 Axes>"
      ]
     },
     "metadata": {},
     "output_type": "display_data"
    }
   ],
   "source": [
    "grouped_week2[grouped_week2.group == 'B']['total_dur'].hist(bins=100, figsize=(3,3))"
   ]
  },
  {
   "cell_type": "code",
   "execution_count": 348,
   "id": "1bb4f211",
   "metadata": {},
   "outputs": [
    {
     "data": {
      "text/plain": [
       "<AxesSubplot: >"
      ]
     },
     "execution_count": 348,
     "metadata": {},
     "output_type": "execute_result"
    },
    {
     "data": {
      "image/png": "[encoded data removed]",
      "text/plain": [
       "<Figure size 300x300 with 1 Axes>"
      ]
     },
     "metadata": {},
     "output_type": "display_data"
    }
   ],
   "source": [
    "grouped_week2[grouped_week2.group == 'A']['total_dur'].hist(bins=100, figsize=(3,3))\n",
    "\n"
   ]
  },
  {
   "cell_type": "code",
   "execution_count": 353,
   "id": "b4baf997",
   "metadata": {},
   "outputs": [
    {
     "name": "stdout",
     "output_type": "stream",
     "text": [
      "T-statistic: -1.1104499161847967, P-value: 0.26734107270904095\n"
     ]
    }
   ],
   "source": [
    "from scipy.stats import ttest_ind\n",
    "\n",
    "t_stat, p_value = ttest_ind(grouped_week2[grouped_week2['group'] == 'A']['total_dur'],\n",
    "                            grouped_week2[grouped_week2['group'] == 'B']['total_dur'])\n",
    "\n",
    "print(f\"T-statistic: {t_stat}, P-value: {p_value}\")"
   ]
  },
  {
   "cell_type": "code",
   "execution_count": 354,
   "id": "7f3809ed",
   "metadata": {},
   "outputs": [
    {
     "name": "stdout",
     "output_type": "stream",
     "text": [
      "Mann-Whitney U statistic: 29822.0, P-value: 0.37685486953317915\n"
     ]
    }
   ],
   "source": [
    "from scipy.stats import mannwhitneyu\n",
    "\n",
    "mw_stat, mw_pvalue = mannwhitneyu(grouped_week2[grouped_week2['group'] == 'A']['total_dur'],\n",
    "                                   grouped_week2[grouped_week2['group'] == 'B']['total_dur'])\n",
    "\n",
    "print(f\"Mann-Whitney U statistic: {mw_stat}, P-value: {mw_pvalue}\")"
   ]
  },
  {
   "cell_type": "markdown",
   "id": "4c8fbbc6",
   "metadata": {},
   "source": [
    "### Ради интереса попробуем применить тесты без бакетного преобразования"
   ]
  },
  {
   "cell_type": "code",
   "execution_count": 357,
   "id": "973df0cf",
   "metadata": {},
   "outputs": [
    {
     "name": "stdout",
     "output_type": "stream",
     "text": [
      "T-statistic: -1.123148866025411, P-value: 0.26137528867944015\n"
     ]
    }
   ],
   "source": [
    "t_stat, p_value = ttest_ind(df_list[df_list['group'] == 'A']['total_dur'],\n",
    "                            df_list[df_list['group'] == 'B']['total_dur'])\n",
    "\n",
    "print(f\"T-statistic: {t_stat}, P-value: {p_value}\")"
   ]
  },
  {
   "cell_type": "code",
   "execution_count": 356,
   "id": "a012d195",
   "metadata": {},
   "outputs": [
    {
     "name": "stdout",
     "output_type": "stream",
     "text": [
      "Mann-Whitney U statistic: 8821090966.5, P-value: 0.14689099068624964\n"
     ]
    }
   ],
   "source": [
    "mw_stat, mw_pvalue = mannwhitneyu(df_list[df_list['group'] == 'A']['total_dur'],\n",
    "                                   df_list[df_list['group'] == 'B']['total_dur'])\n",
    "\n",
    "print(f\"Mann-Whitney U statistic: {mw_stat}, P-value: {mw_pvalue}\")"
   ]
  },
  {
   "cell_type": "markdown",
   "id": "407f205c",
   "metadata": {},
   "source": [
    "На самом деле значение p-value если оно больше 0.05 нам ничего особо не говорит, ведь если H0 отвергается, то p-value —степень уверенности в отвержении H0.\n",
    "(чем p-value меньше, тем увереннее) если H0 не отверг., то ничего сказать нельзя, p-value не есть степень уверенности в справ. H0"
   ]
  },
  {
   "cell_type": "code",
   "execution_count": 359,
   "id": "4a5c04c3",
   "metadata": {},
   "outputs": [],
   "source": [
    "df_list = df_list[(df_list['total_dur'] < df_list['total_dur'].std() * 3)]"
   ]
  },
  {
   "cell_type": "code",
   "execution_count": 360,
   "id": "c9a6fbd4",
   "metadata": {},
   "outputs": [
    {
     "name": "stdout",
     "output_type": "stream",
     "text": [
      "T-statistic: -1.102197564202033, P-value: 0.2703768000983905\n"
     ]
    }
   ],
   "source": [
    "t_stat, p_value = ttest_ind(df_list[df_list['group'] == 'A']['total_dur'],\n",
    "                            df_list[df_list['group'] == 'B']['total_dur'])\n",
    "\n",
    "print(f\"T-statistic: {t_stat}, P-value: {p_value}\")"
   ]
  },
  {
   "cell_type": "code",
   "execution_count": 361,
   "id": "e0fbfc6c",
   "metadata": {},
   "outputs": [
    {
     "name": "stdout",
     "output_type": "stream",
     "text": [
      "Mann-Whitney U statistic: 8605068181.0, P-value: 0.1491325823759163\n"
     ]
    }
   ],
   "source": [
    "mw_stat, mw_pvalue = mannwhitneyu(df_list[df_list['group'] == 'A']['total_dur'],\n",
    "                                   df_list[df_list['group'] == 'B']['total_dur'])\n",
    "\n",
    "print(f\"Mann-Whitney U statistic: {mw_stat}, P-value: {mw_pvalue}\")"
   ]
  },
  {
   "cell_type": "markdown",
   "id": "ff8f2cd1",
   "metadata": {},
   "source": [
    "### Не получилось найти такого теста, который увидел бы отличия между двумя группами. Оно и понятно - эффект слишком мал и даже с методами уменьшения дисперсии не факт что получилось бы его отловить"
   ]
  },
  {
   "cell_type": "markdown",
   "id": "5086997e",
   "metadata": {},
   "source": [
    "Не получилось обнаружить стат. значимые результаты после проведения эксперимента. Скорее всего произошло это из-за того, что изменилось поведение пользователей, у которых и так продолжительность довольно высокая. Может быть, что какая-то другая метрика (по типу выручки) могла увеличится благодаря этому (может выручка получется за счет просмотра рекламы), но если интересно смотреть метрику total_dur, то нужно вводить такие изменения, которые увеличат эту метрику у средних пользователей"
   ]
  }
 ],
 "metadata": {
  "kernelspec": {
   "display_name": "Python 3 (ipykernel)",
   "language": "python",
   "name": "python3"
  },
  "language_info": {
   "codemirror_mode": {
    "name": "ipython",
    "version": 3
   },
   "file_extension": ".py",
   "mimetype": "text/x-python",
   "name": "python",
   "nbconvert_exporter": "python",
   "pygments_lexer": "ipython3",
   "version": "3.10.9"
  }
 },
 "nbformat": 4,
 "nbformat_minor": 5
}
